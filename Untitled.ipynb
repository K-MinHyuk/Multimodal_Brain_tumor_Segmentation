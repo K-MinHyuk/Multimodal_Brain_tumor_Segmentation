{
 "cells": [
  {
   "cell_type": "code",
   "execution_count": 25,
   "metadata": {},
   "outputs": [],
   "source": [
    "import gym\n",
    "import numpy as np\n",
    "import _pickle\n",
    "import tensorflow as tf\n",
    "%matplotlib inline\n",
    "import matplotlib.pyplot as plt\n",
    "import math"
   ]
  },
  {
   "cell_type": "markdown",
   "metadata": {},
   "source": [
    "<img src=\"P2 Intro.png\" width=\"900\" height=\"600\"/>"
   ]
  },
  {
   "cell_type": "code",
   "execution_count": null,
   "metadata": {},
   "outputs": [],
   "source": []
  },
  {
   "cell_type": "code",
   "execution_count": 34,
   "metadata": {
    "scrolled": true
   },
   "outputs": [
    {
     "name": "stdout",
     "output_type": "stream",
     "text": [
      "Reward for this episode was: 16.0, Average reward for episode so far is: 16.0\n",
      "Reward for this episode was: 37.0, Average reward for episode so far is: 26.5\n",
      "Reward for this episode was: 34.0, Average reward for episode so far is: 29.0\n",
      "Reward for this episode was: 16.0, Average reward for episode so far is: 25.8\n",
      "Reward for this episode was: 20.0, Average reward for episode so far is: 24.6\n",
      "Reward for this episode was: 21.0, Average reward for episode so far is: 24.0\n",
      "Reward for this episode was: 37.0, Average reward for episode so far is: 25.9\n",
      "Reward for this episode was: 21.0, Average reward for episode so far is: 25.2\n",
      "Reward for this episode was: 10.0, Average reward for episode so far is: 23.6\n",
      "Reward for this episode was: 12.0, Average reward for episode so far is: 22.4\n",
      "Reward for this episode was: 12.0, Average reward for episode so far is: 21.5\n",
      "Reward for this episode was: 17.0, Average reward for episode so far is: 21.1\n",
      "Reward for this episode was: 36.0, Average reward for episode so far is: 22.2\n",
      "Reward for this episode was: 12.0, Average reward for episode so far is: 21.5\n",
      "Reward for this episode was: 19.0, Average reward for episode so far is: 21.3\n",
      "Reward for this episode was: 30.0, Average reward for episode so far is: 21.9\n",
      "Reward for this episode was: 26.0, Average reward for episode so far is: 22.1\n",
      "Reward for this episode was: 14.0, Average reward for episode so far is: 21.7\n",
      "Reward for this episode was: 20.0, Average reward for episode so far is: 21.6\n",
      "Reward for this episode was: 13.0, Average reward for episode so far is: 21.2\n",
      "Reward for this episode was: 50.0, Average reward for episode so far is: 22.5\n",
      "Reward for this episode was: 40.0, Average reward for episode so far is: 23.3\n",
      "Reward for this episode was: 20.0, Average reward for episode so far is: 23.2\n",
      "Reward for this episode was: 15.0, Average reward for episode so far is: 22.8\n",
      "Reward for this episode was: 12.0, Average reward for episode so far is: 22.4\n",
      "Reward for this episode was: 23.0, Average reward for episode so far is: 22.4\n",
      "Reward for this episode was: 29.0, Average reward for episode so far is: 22.7\n",
      "Reward for this episode was: 28.0, Average reward for episode so far is: 22.9\n",
      "Reward for this episode was: 15.0, Average reward for episode so far is: 22.6\n",
      "Reward for this episode was: 53.0, Average reward for episode so far is: 23.6\n",
      "Reward for this episode was: 38.0, Average reward for episode so far is: 24.1\n",
      "Reward for this episode was: 59.0, Average reward for episode so far is: 25.2\n",
      "Reward for this episode was: 27.0, Average reward for episode so far is: 25.2\n",
      "Reward for this episode was: 16.0, Average reward for episode so far is: 24.9\n",
      "Reward for this episode was: 42.0, Average reward for episode so far is: 25.4\n",
      "Reward for this episode was: 69.0, Average reward for episode so far is: 26.6\n",
      "Reward for this episode was: 16.0, Average reward for episode so far is: 26.4\n",
      "Reward for this episode was: 38.0, Average reward for episode so far is: 26.7\n",
      "Reward for this episode was: 33.0, Average reward for episode so far is: 26.8\n",
      "Reward for this episode was: 26.0, Average reward for episode so far is: 26.8\n",
      "Reward for this episode was: 19.0, Average reward for episode so far is: 26.6\n",
      "Reward for this episode was: 17.0, Average reward for episode so far is: 26.4\n",
      "Reward for this episode was: 29.0, Average reward for episode so far is: 26.4\n",
      "Reward for this episode was: 15.0, Average reward for episode so far is: 26.2\n",
      "Reward for this episode was: 12.0, Average reward for episode so far is: 25.9\n",
      "Reward for this episode was: 31.0, Average reward for episode so far is: 26.0\n",
      "Reward for this episode was: 14.0, Average reward for episode so far is: 25.7\n",
      "Reward for this episode was: 14.0, Average reward for episode so far is: 25.5\n",
      "Reward for this episode was: 19.0, Average reward for episode so far is: 25.3\n",
      "Reward for this episode was: 28.0, Average reward for episode so far is: 25.4\n",
      "Reward for this episode was: 16.0, Average reward for episode so far is: 25.2\n",
      "Reward for this episode was: 17.0, Average reward for episode so far is: 25.1\n",
      "Reward for this episode was: 26.0, Average reward for episode so far is: 25.1\n",
      "Reward for this episode was: 31.0, Average reward for episode so far is: 25.2\n",
      "Reward for this episode was: 21.0, Average reward for episode so far is: 25.1\n",
      "Reward for this episode was: 14.0, Average reward for episode so far is: 24.9\n",
      "Reward for this episode was: 19.0, Average reward for episode so far is: 24.8\n",
      "Reward for this episode was: 26.0, Average reward for episode so far is: 24.8\n",
      "Reward for this episode was: 53.0, Average reward for episode so far is: 25.3\n",
      "Reward for this episode was: 32.0, Average reward for episode so far is: 25.4\n",
      "Reward for this episode was: 24.0, Average reward for episode so far is: 25.4\n",
      "Reward for this episode was: 13.0, Average reward for episode so far is: 25.2\n",
      "Reward for this episode was: 22.0, Average reward for episode so far is: 25.1\n",
      "Reward for this episode was: 18.0, Average reward for episode so far is: 25.0\n",
      "Reward for this episode was: 19.0, Average reward for episode so far is: 24.9\n",
      "Reward for this episode was: 19.0, Average reward for episode so far is: 24.8\n",
      "Reward for this episode was: 13.0, Average reward for episode so far is: 24.7\n",
      "Reward for this episode was: 12.0, Average reward for episode so far is: 24.5\n",
      "Reward for this episode was: 15.0, Average reward for episode so far is: 24.3\n",
      "Reward for this episode was: 22.0, Average reward for episode so far is: 24.3\n",
      "Reward for this episode was: 31.0, Average reward for episode so far is: 24.4\n",
      "Reward for this episode was: 32.0, Average reward for episode so far is: 24.5\n",
      "Reward for this episode was: 14.0, Average reward for episode so far is: 24.4\n",
      "Reward for this episode was: 25.0, Average reward for episode so far is: 24.4\n",
      "Reward for this episode was: 16.0, Average reward for episode so far is: 24.3\n",
      "Reward for this episode was: 24.0, Average reward for episode so far is: 24.3\n",
      "Reward for this episode was: 13.0, Average reward for episode so far is: 24.1\n",
      "Reward for this episode was: 26.0, Average reward for episode so far is: 24.1\n",
      "Reward for this episode was: 13.0, Average reward for episode so far is: 24.0\n",
      "Reward for this episode was: 21.0, Average reward for episode so far is: 24.0\n",
      "Reward for this episode was: 24.0, Average reward for episode so far is: 24.0\n",
      "Reward for this episode was: 11.0, Average reward for episode so far is: 23.8\n",
      "Reward for this episode was: 18.0, Average reward for episode so far is: 23.7\n",
      "Reward for this episode was: 11.0, Average reward for episode so far is: 23.6\n",
      "Reward for this episode was: 17.0, Average reward for episode so far is: 23.5\n",
      "Reward for this episode was: 10.0, Average reward for episode so far is: 23.3\n",
      "Reward for this episode was: 22.0, Average reward for episode so far is: 23.3\n",
      "Reward for this episode was: 16.0, Average reward for episode so far is: 23.2\n",
      "Reward for this episode was: 10.0, Average reward for episode so far is: 23.1\n",
      "Reward for this episode was: 15.0, Average reward for episode so far is: 23.0\n",
      "Reward for this episode was: 19.0, Average reward for episode so far is: 23.0\n",
      "Reward for this episode was: 41.0, Average reward for episode so far is: 23.2\n",
      "Reward for this episode was: 12.0, Average reward for episode so far is: 23.0\n",
      "Reward for this episode was: 12.0, Average reward for episode so far is: 22.9\n",
      "Reward for this episode was: 21.0, Average reward for episode so far is: 22.9\n",
      "Reward for this episode was: 24.0, Average reward for episode so far is: 22.9\n",
      "Reward for this episode was: 14.0, Average reward for episode so far is: 22.8\n",
      "Reward for this episode was: 23.0, Average reward for episode so far is: 22.8\n",
      "Reward for this episode was: 32.0, Average reward for episode so far is: 22.9\n",
      "Reward for this episode was: 20.0, Average reward for episode so far is: 22.9\n"
     ]
    }
   ],
   "source": [
    "env = gym.make('CartPole-v0')\n",
    "observation = env.reset()\n",
    "random_episodes = 0\n",
    "reward_sum = 0\n",
    "total_reward = []\n",
    "val = []\n",
    "while random_episodes < 100:\n",
    "    env.render()\n",
    "    action = env.action_space.sample()\n",
    "#     print(observation, action)\n",
    "    observation, reward, done, _ = env.step(action)\n",
    "    reward_sum += reward\n",
    "    if done:\n",
    "        random_episodes += 1\n",
    "        total_reward.append(reward_sum)\n",
    "        print(\"Reward for this episode was: {}, Average reward for episode so far is: {}\".format(reward_sum, np.round(np.mean(total_reward),1)))\n",
    "        val.append(np.round(np.mean(total_reward),1))\n",
    "        reward_sum = 0\n",
    "        env.reset()\n",
    "env.close()"
   ]
  },
  {
   "cell_type": "code",
   "execution_count": 35,
   "metadata": {},
   "outputs": [
    {
     "data": {
      "text/plain": [
       "[<matplotlib.lines.Line2D at 0x1b486b17a90>]"
      ]
     },
     "execution_count": 35,
     "metadata": {},
     "output_type": "execute_result"
    },
    {
     "data": {
      "image/png": "[encoded data removed]",
      "text/plain": [
       "<Figure size 432x288 with 1 Axes>"
      ]
     },
     "metadata": {
      "needs_background": "light"
     },
     "output_type": "display_data"
    }
   ],
   "source": [
    "plt.plot(range(len(val)), val)"
   ]
  },
  {
   "cell_type": "code",
   "execution_count": 32,
   "metadata": {},
   "outputs": [],
   "source": [
    "env = gym.make('CartPole-v0')\n",
    "env.reset()\n",
    "\n",
    "for _ in range(300):\n",
    "    env.render()\n",
    "    env.step(env.action_space.sample())     # Take a random action\n",
    "env.close()"
   ]
  },
  {
   "cell_type": "code",
   "execution_count": null,
   "metadata": {},
   "outputs": [],
   "source": []
  },
  {
   "cell_type": "code",
   "execution_count": null,
   "metadata": {},
   "outputs": [],
   "source": []
  },
  {
   "cell_type": "code",
   "execution_count": null,
   "metadata": {},
   "outputs": [],
   "source": []
  }
 ],
 "metadata": {
  "kernelspec": {
   "display_name": "gym",
   "language": "python",
   "name": "gym"
  },
  "language_info": {
   "codemirror_mode": {
    "name": "ipython",
    "version": 3
   },
   "file_extension": ".py",
   "mimetype": "text/x-python",
   "name": "python",
   "nbconvert_exporter": "python",
   "pygments_lexer": "ipython3",
   "version": "3.8.5"
  }
 },
 "nbformat": 4,
 "nbformat_minor": 4
}
